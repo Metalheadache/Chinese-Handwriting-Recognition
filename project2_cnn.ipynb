{
  "nbformat": 4,
  "nbformat_minor": 0,
  "metadata": {
    "colab": {
      "name": "project2-cnn.ipynb",
      "provenance": [],
      "collapsed_sections": [],
      "toc_visible": true
    },
    "kernelspec": {
      "name": "python3",
      "display_name": "Python 3"
    },
    "accelerator": "GPU"
  },
  "cells": [
    {
      "cell_type": "markdown",
      "metadata": {
        "id": "3s1g5ewF65Px",
        "colab_type": "text"
      },
      "source": [
        "## Initialization"
      ]
    },
    {
      "cell_type": "code",
      "metadata": {
        "id": "JwIRR-d03rKm",
        "colab_type": "code",
        "colab": {}
      },
      "source": [
        "# from google.colab import drive\n",
        "# drive.mount('/content/drive')"
      ],
      "execution_count": 0,
      "outputs": []
    },
    {
      "cell_type": "code",
      "metadata": {
        "id": "aw_r9D9RWlYk",
        "colab_type": "code",
        "colab": {}
      },
      "source": [
        "import os\n",
        "import random\n",
        "import time\n",
        "import pandas\n",
        "import numpy as np\n",
        "import struct\n",
        "from PIL import Image\n",
        "from PIL import ImageFilter\n",
        "import pickle\n",
        "import zipfile\n",
        "\n",
        "from sklearn.preprocessing import LabelBinarizer\n",
        "from sklearn.preprocessing import MultiLabelBinarizer\n",
        "from keras.layers import Conv2D, MaxPooling2D, Dropout, Activation, Flatten, Dense\n",
        "from keras.layers.normalization import BatchNormalization\n",
        "from keras.models import Sequential\n",
        "from keras.models import load_model"
      ],
      "execution_count": 0,
      "outputs": []
    },
    {
      "cell_type": "code",
      "metadata": {
        "id": "5pkDBGNycw4F",
        "colab_type": "code",
        "colab": {}
      },
      "source": [
        "data_dir = './'\n",
        "extension = '.zip'\n",
        "\n",
        "for item in os.listdir(data_dir):\n",
        "  if item.endswith(extension):\n",
        "    file_name = os.path.abspath(item)\n",
        "    new_dir = file_name.replace('.zip', '')\n",
        "    \n",
        "    # print (file_name)\n",
        "    # print (new_dir)\n",
        "\n",
        "    zip_ref = zipfile.ZipFile(file_name)\n",
        "    zip_ref.extractall(new_dir)\n",
        "    zip_ref.close()\n",
        "    os.remove(file_name)"
      ],
      "execution_count": 0,
      "outputs": []
    },
    {
      "cell_type": "markdown",
      "metadata": {
        "id": "ehK7qeLK2X1e",
        "colab_type": "text"
      },
      "source": [
        "## Read data"
      ]
    },
    {
      "cell_type": "code",
      "metadata": {
        "id": "1w49sMMGah4G",
        "colab_type": "code",
        "colab": {}
      },
      "source": [
        "class ReadData:\n",
        "  \n",
        "  def __init__(self, path, is_train=True, char_dict=None):\n",
        "    self.file_count = 0\n",
        "    self.is_train = is_train\n",
        "    self.iter_index = 0\n",
        "    self.path = path\n",
        "    self.char_dict = char_dict\n",
        "    self.use_filter = True\n",
        "    self.use_rotation = True\n",
        "  \n",
        "  # Read data\n",
        "\n",
        "  def read_one_file(self, f):\n",
        "    header_size = 10\n",
        "    while True:\n",
        "      header = np.fromfile(f, dtype='uint8', count=header_size)\n",
        "      if not header.size: break\n",
        "      sample_size = header[0] + (header[1]<<8) + (header[2]<<16) + (header[3]<<24)\n",
        "      tagcode = header[5] + (header[4]<<8)\n",
        "      width = header[6] + (header[7]<<8)\n",
        "      height = header[8] + (header[9]<<8)\n",
        "      if header_size + width*height != sample_size:\n",
        "        break\n",
        "      try:\n",
        "        image = np.fromfile(f, dtype='uint8', count=width*height).reshape((height,width))\n",
        "      except:\n",
        "        print (struct.pack('>H', tagcode).decode('gb2312'))\n",
        "      yield image, tagcode\n",
        "  \n",
        "  def read_from_dir(self, gnt_dir):\n",
        "    for file_name in os.listdir(gnt_dir):\n",
        "      if file_name.endswith('.gnt'):\n",
        "        file_path = os.path.join(gnt_dir, file_name)\n",
        "        with open(file_path, 'rb') as f:\n",
        "          for image, tagcode in read_one_file(f):\n",
        "            yield image, tagcode\n",
        "  \n",
        "  def read_one_gnt_file(self):\n",
        "    for file_name in os.listdir(self.path):\n",
        "      if file_name.endswith('.gnt'):\n",
        "        file_path = os.path.join(self.path, file_name)\n",
        "        with open(file_path, 'rb') as f:\n",
        "          x = []\n",
        "          y = []\n",
        "          for image, tagcode in self.read_one_file(f):\n",
        "            x.append(image)\n",
        "            y.append(tagcode)\n",
        "        yield x, y\n",
        "  \n",
        "  def load_next_file(self):\n",
        "    for x_one, y_one in self.read_one_gnt_file():\n",
        "      result_x = []\n",
        "      result_y = []\n",
        "      for i in range(len(x_one)):\n",
        "        result = self.read_convert_image(x_one[i])\n",
        "        result_x.append(result)\n",
        "        result_y.append(y_one[i])\n",
        "        if self.use_filter:\n",
        "          filtered_x = self.apply_filter(x_one[i])\n",
        "          result_x.append(filtered_x)\n",
        "          result_y.append(y_one[i])\n",
        "        if self.use_rotation:\n",
        "          rotated_x = self.rotate(x_one[i])\n",
        "          result_x.append(rotated_x)\n",
        "          result_y.append(y_one[i])\n",
        "      x = np.array(result_x)\n",
        "      y = np.array(result_y)\n",
        "      self.file_count += 1\n",
        "      print ('Loaded files ', self.file_count)\n",
        "      yield x, y\n",
        "  \n",
        "  def load_all(self):\n",
        "    x = []\n",
        "    y = []\n",
        "    for temp_x, temp_y in self.load_next_file():\n",
        "      x.extend(temp_x)\n",
        "      y.extend(temp_y)\n",
        "    return np.array(x), np.array(y)\n",
        "\n",
        "  def rotate(self, image):\n",
        "    im = Image.fromarray(image)\n",
        "    im.rotate(random.randint(10,20))\n",
        "    im = im.resize([64, 64])\n",
        "    new_image = np.asarray(im)\n",
        "    new_image = new_image.reshape(new_image.shape[0], new_image.shape[1], 1)\n",
        "    return new_image\n",
        "  \n",
        "  def apply_filter(self,image):\n",
        "    im = Image.fromarray(image)\n",
        "    filters = [ImageFilter.BLUR, ImageFilter.CONTOUR, ImageFilter.EMBOSS]\n",
        "    im.filter(random.choice(filters))\n",
        "    im = im.resize([64, 64])\n",
        "    new_image = np.asarray(im)\n",
        "    new_image = new_image.reshape(new_image.shape[0], new_image.shape[1], 1)\n",
        "    return new_image\n",
        "  \n",
        "  def read_convert_image(self, image):\n",
        "    im = Image.fromarray(image)\n",
        "    im = im.resize([64, 64])\n",
        "    new_image = np.asarray(im)\n",
        "    new_image = new_image.reshape(new_image.shape[0], new_image.shape[1], 1)\n",
        "    return new_image"
      ],
      "execution_count": 0,
      "outputs": []
    },
    {
      "cell_type": "code",
      "metadata": {
        "id": "pX-FxxNA7Upt",
        "colab_type": "code",
        "colab": {}
      },
      "source": [
        "class GetCharList:\n",
        "  \n",
        "  def __init__(self):\n",
        "    self.train = ReadData('./HWDB1.1trn_gnt/', is_train=True)\n",
        "    self.test = ReadData('./HWDB1.1tst_gnt/', is_train=False)\n",
        "\n",
        "  def generate_char_list(self):\n",
        "    if os.path.isfile('char_list'):\n",
        "      with open('char_list', 'rb') as f:\n",
        "        char_list = pickle.load(f)\n",
        "        print ('Char list loaded')\n",
        "        return char_list\n",
        "    else:\n",
        "      char_list = []\n",
        "      for _, tagcode in self.train.read_from_dir(gnt_dir='./HWDB1.1trn_gnt/'):\n",
        "        char_list.append(tagcode)\n",
        "      with open('char_list', 'wb') as f:\n",
        "        pickle.dump(char_list, f)\n",
        "        print ('Char list generated')\n",
        "      return char_list"
      ],
      "execution_count": 0,
      "outputs": []
    },
    {
      "cell_type": "markdown",
      "metadata": {
        "id": "zirammZE7vnS",
        "colab_type": "text"
      },
      "source": [
        "## Build model"
      ]
    },
    {
      "cell_type": "code",
      "metadata": {
        "id": "T7RuJLkj8lbm",
        "colab_type": "code",
        "colab": {}
      },
      "source": [
        "# Initialize\n",
        "\n",
        "number_of_classes = 3755\n",
        "chars = GetCharList()\n",
        "chars.test.use_rotation = False\n",
        "chars.test.use_filter = False"
      ],
      "execution_count": 0,
      "outputs": []
    },
    {
      "cell_type": "code",
      "metadata": {
        "id": "cyKYea90XNlU",
        "colab_type": "code",
        "colab": {}
      },
      "source": [
        "with open('char_list', 'rb') as f:\n",
        "  char_list = pickle.load(f)\n",
        "\n",
        "names = ['id', 'data']\n",
        "formats = ['|U16', 'int64']\n",
        "dtype = dict(names=names, formats=formats)\n",
        "char_array = np.array(list(char_list.items()), dtype=dtype)\n",
        "\n",
        "lb = LabelBinarizer()\n",
        "lb.fit(char_array)"
      ],
      "execution_count": 0,
      "outputs": []
    },
    {
      "cell_type": "code",
      "metadata": {
        "id": "gm3Iix_X7yb3",
        "colab_type": "code",
        "colab": {}
      },
      "source": [
        "def build_model():\n",
        "  model = Sequential()\n",
        "\n",
        "  model.add(Conv2D(128, (3, 3), input_shape=(64, 64, 1)))\n",
        "  model.add(BatchNormalization(axis=-1))\n",
        "  model.add(Activation('relu'))\n",
        "  \n",
        "  model.add(Conv2D(64, (3, 3)))\n",
        "  model.add(BatchNormalization(axis=-1))\n",
        "  model.add(Activation('relu'))\n",
        "  model.add(MaxPooling2D(pool_size=(2, 2)))\n",
        "\n",
        "  model.add(Conv2D(64, (3, 3)))\n",
        "  model.add(BatchNormalization(axis=-1))\n",
        "  model.add(Activation('relu'))\n",
        "  \n",
        "  model.add(Conv2D(64, (3, 3)))\n",
        "  model.add(BatchNormalization(axis=-1))\n",
        "  model.add(Activation('relu'))\n",
        "  model.add(MaxPooling2D(pool_size=(2, 2)))\n",
        "\n",
        "  model.add(Flatten())\n",
        "  model.add(Dense(1024))\n",
        "  model.add(BatchNormalization())\n",
        "  model.add(Activation('relu'))\n",
        "  model.add(Dropout(0.4))\n",
        "  model.add(Dense(3755))\n",
        "  model.add(Activation('softmax'))\n",
        "  \n",
        "  return model"
      ],
      "execution_count": 0,
      "outputs": []
    },
    {
      "cell_type": "markdown",
      "metadata": {
        "id": "WyLCn5pC-SJG",
        "colab_type": "text"
      },
      "source": [
        "## Train model"
      ]
    },
    {
      "cell_type": "code",
      "metadata": {
        "id": "ZYERNv75-RLc",
        "colab_type": "code",
        "colab": {}
      },
      "source": [
        "def train_model(X_train,y_train):\n",
        "  model = build_model()\n",
        "  model.compile(optimizer='adam', loss='categorical_crossentropy', metrics=['accuracy'])\n",
        "  model.summary()\n",
        "  model.fit(X_train, y_train, epochs=10)\n",
        "  model.save('model1.h5')"
      ],
      "execution_count": 0,
      "outputs": []
    },
    {
      "cell_type": "code",
      "metadata": {
        "id": "_5tOnfqg-okg",
        "colab_type": "code",
        "colab": {}
      },
      "source": [
        "start_time = time.time()\n",
        "X_train, y_train = chars.train.load_all()\n",
        "X_train = X_train/255\n",
        "y_train = lb.transform(y_train)"
      ],
      "execution_count": 0,
      "outputs": []
    },
    {
      "cell_type": "code",
      "metadata": {
        "id": "wJCAeCsvfzmA",
        "colab_type": "code",
        "colab": {}
      },
      "source": [
        "train_model(X_train, y_train)"
      ],
      "execution_count": 0,
      "outputs": []
    },
    {
      "cell_type": "markdown",
      "metadata": {
        "id": "kOMtTv8VA0SQ",
        "colab_type": "text"
      },
      "source": [
        "## Test model"
      ]
    },
    {
      "cell_type": "code",
      "metadata": {
        "id": "J34mXyduA6XD",
        "colab_type": "code",
        "colab": {}
      },
      "source": [
        "def test_model(X_test, y_test):\n",
        "  model = load_model('model.h5')\n",
        "  model.compile(optimizer='adam', loss='categorical_crossentropy', metrics=['accuracy'])\n",
        "  model_score = model.evaluate(X_test, y_test)\n",
        "  print ('Testing accuracy: ', model_score[1])\n",
        "  print (model.metrics)"
      ],
      "execution_count": 0,
      "outputs": []
    },
    {
      "cell_type": "code",
      "metadata": {
        "id": "2cRge4lnA3IH",
        "colab_type": "code",
        "colab": {}
      },
      "source": [
        "X_test, y_test = chars.test.load_all()\n",
        "y_test = mlb.transform(y_test)\n",
        "X_test = X_test/255"
      ],
      "execution_count": 0,
      "outputs": []
    },
    {
      "cell_type": "code",
      "metadata": {
        "id": "9BMrhm5BBsie",
        "colab_type": "code",
        "colab": {}
      },
      "source": [
        "test_model(X_test, y_test)"
      ],
      "execution_count": 0,
      "outputs": []
    }
  ]
}